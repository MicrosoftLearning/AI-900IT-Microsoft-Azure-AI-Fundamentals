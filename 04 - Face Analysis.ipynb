{
  "cells": [
    {
      "cell_type": "markdown",
      "source": [
        "# Rileva e analizza i volti\r\n",
        "\r\n",
        "Le soluzioni di visione artificiale spesso richiedono una soluzione di intelligenza artificiale (IA) per essere in grado di rilevare, analizzare o identificare i volti umani. Ad esempio, supponiamo che l'azienda di vendita al dettaglio Northwind Traders abbia deciso di implementare un \"negozio intelligente\", in cui i servizi di IA monitorano il negozio per identificare i clienti che richiedono assistenza e guidano i dipendenti nell'aiutarli. Un modo per farlo è quello di eseguire il rilevamento e l'analisi dei volti: in altre parole, determinare se ci sono dei volti nelle immagini, e in tal caso analizzarne le caratteristiche.\r\n",
        "\r\n",
        "![Un robot che analizza un volto](./images/face_analysis.jpg)\r\n",
        "\r\n",
        "## Utilizza il servizio cognitivo Viso per rilevare i visi\r\n",
        "\r\n",
        "Supponiamo che il sistema di negozio intelligente che Northwind Traders vuole creare debba essere in grado di rilevare i clienti e analizzarne le caratteristiche del volto. In Microsoft Azure, è possibile farlo utilizzando **Volto**, parte dei servizi cognitivi di Azure.\r\n",
        "\r\n",
        "### Crea una risorsa di servizi cognitivi\r\n",
        "\r\n",
        "Iniziamo creando una risorsa di **Servizi cognitivi** nella tua sottoscrizione di Azure.\r\n",
        "\r\n",
        "> **Nota**: Se disponi già di una risorsa di Servizi Cognitivi, basta aprire la sua pagina **Avvio rapido** nel portale di Azure e copiare la sua chiave e l'endpoint nella cella seguente. Altrimenti, procedi come segue per crearne una.\r\n",
        "\r\n",
        "1. In un'altra scheda del browser, apri il portale di Azure all'indirizzo https://portal.azure.com, accedendo con il tuo account Microsoft.\r\n",
        "2. Fai clic sul pulsante **&#65291;Crea una risorsa**, cerca *Servizi cognitivi* e crea una risorsa di **Servizi cognitivi** con le impostazioni seguenti:\r\n",
        "    - **Sottoscrizione**: *La tua sottoscrizione di Azure*.\r\n",
        "    - **Gruppo di risorse**: *Seleziona o crea un gruppo di risorse con un nome univoco*.\r\n",
        "    - **Area geografica**: *Scegli una qualsiasi area disponibile*:\r\n",
        "    - **Nome**: *Immetti un nome univoco*.\r\n",
        "    - **Piano tariffario**: S0\r\n",
        "    - **Confermo di aver letto e compreso gli avvisi**: Selezionato.\r\n",
        "3. Attendi il completamento della distribuzione. Vai quindi alla tua risorsa di servizi cognitivi e, nella pagina **Panoramica**, fai clic sul link per gestire le chiavi per il servizio. Avrai bisogno dell'endpoint e delle chiavi per connetterti alla tua risorsa di servizi cognitivi dalle applicazioni client.\r\n",
        "\r\n",
        "### Ottieni la chiave e l'endpoint per la tua risorsa di Servizi cognitivi\r\n",
        "\r\n",
        "Per usare la risorsa di servizi cognitivi, le applicazioni client hanno bisogno del loro endpoint e della chiave di autenticazione:\r\n",
        "\r\n",
        "1. Nel portale di Azure, nella pagina **Chiavi ed endpoint** per la tua risorsa di servizio cognitivo, copia la **Key1** per la tua risorsa e incollala nel codice sottostante, sostituendo **YOUR_COG_KEY**.\r\n",
        "\r\n",
        "2. Copia l'**endpoint** per la tua risorsa e incollalo nel codice sottostante, sostituendo **YOUR_COG_ENDPOINT**.\r\n",
        "\r\n",
        "3. Esegui il codice nella cella di seguito facendo clic sul pulsante Esegui cella <span>&#9655;</span> (in alto a sinistra della cella)."
      ],
      "metadata": {}
    },
    {
      "cell_type": "code",
      "source": [
        "cog_key = 'YOUR_COG_KEY'\n",
        "cog_endpoint = 'YOUR_COG_ENDPOINT'\n",
        "\n",
        "print('Ready to use cognitive services at {} using key {}'.format(cog_endpoint, cog_key))"
      ],
      "outputs": [],
      "execution_count": null,
      "metadata": {
        "gather": {
          "logged": 1599693964655
        }
      }
    },
    {
      "cell_type": "markdown",
      "source": [
        "Ora che disponi di una risorsa di Servizi Cognitivi puoi usare il servizio Viso per rilevare i visi umani nel negozio.\r\n",
        "\r\n",
        "Esegui la cella di codice qui sotto per vedere un esempio."
      ],
      "metadata": {}
    },
    {
      "cell_type": "code",
      "source": [
        "from azure.cognitiveservices.vision.face import FaceClient\n",
        "from msrest.authentication import CognitiveServicesCredentials\n",
        "from python_code import faces\n",
        "import os\n",
        "%matplotlib inline\n",
        "\n",
        "# Crea un client di rilevamento dei volti.\r\n",
        "face_client = FaceClient(cog_endpoint, CognitiveServicesCredentials(cog_key))\n",
        "\n",
        "# Apri un'immagine\r\n",
        "image_path = os.path.join('data', 'face', 'store_cam2.jpg')\n",
        "image_stream = open(image_path, \"rb\")\n",
        "\n",
        "# Rileva i volti\r\n",
        "detected_faces = face_client.face.detect_with_stream(image=image_stream)\n",
        "\n",
        "# Visualizza i volti (codice in python_code/faces.py)\r\n",
        "faces.show_faces(image_path, detected_faces)"
      ],
      "outputs": [],
      "execution_count": null,
      "metadata": {
        "gather": {
          "logged": 1599693970079
        }
      }
    },
    {
      "cell_type": "markdown",
      "source": [
        "A ciascun volto rilevato viene assegnato un ID univoco, in modo che l'applicazione possa identificare ogni singolo volto che è stato rilevato.\r\n",
        "\r\n",
        "Esegui la cella seguente per vedere gli ID di altri volti di acquirenti."
      ],
      "metadata": {}
    },
    {
      "cell_type": "code",
      "source": [
        "# Apri un'immagine\r\n",
        "image_path = os.path.join('data', 'face', 'store_cam3.jpg')\n",
        "image_stream = open(image_path, \"rb\")\n",
        "\n",
        "# Rileva i volti\r\n",
        "detected_faces = face_client.face.detect_with_stream(image=image_stream)\n",
        "\n",
        "# Visualizza i volti (codice in python_code/faces.py)\r\n",
        "faces.show_faces(image_path, detected_faces, show_id=True)"
      ],
      "outputs": [],
      "execution_count": null,
      "metadata": {
        "gather": {
          "logged": 1599693970447
        }
      }
    },
    {
      "cell_type": "markdown",
      "source": [
        "## Analizza gli attributi del volto\r\n",
        "\r\n",
        "Viso non soltanto rileva i volti, ma è anche in grado di analizzarne le caratteristiche e analizzare le espressioni facciali per suggerire l'età e lo stato emotivo. Ad esempio, esegui il codice seguente per analizzare gli attributi del volto di un acquirente."
      ],
      "metadata": {}
    },
    {
      "cell_type": "code",
      "source": [
        "# Apri un'immagine\r\n",
        "image_path = os.path.join('data', 'face', 'store_cam1.jpg')\n",
        "image_stream = open(image_path, \"rb\")\n",
        "\n",
        "# Rileva i volti e gli attributi del volto specificati\r\n",
        "attributes = ['age', 'emotion']\n",
        "detected_faces = face_client.face.detect_with_stream(image=image_stream, return_face_attributes=attributes)\n",
        "\n",
        "# Visualizza i volti e gli attributi (codice in python_code/faces.py)\r\n",
        "faces.show_face_attributes(image_path, detected_faces)"
      ],
      "outputs": [],
      "execution_count": null,
      "metadata": {
        "gather": {
          "logged": 1599693971321
        }
      }
    },
    {
      "cell_type": "markdown",
      "source": [
        "Sulla base dei punteggi emozionali rilevati per il cliente nell'immagine, il cliente sembra piuttosto soddisfatto dell'esperienza di acquisto.\r\n",
        "\r\n",
        "## Trova volti simili \r\n",
        "\r\n",
        "Gli ID dei volti che vengono creati per ogni volto rilevato vengono utilizzati per identificare individualmente i volti rilevati. Puoi usare questi ID per confrontare un volto rilevato con quelli rilevati in precedenza e trovare volti con caratteristiche simili.\r\n",
        "\r\n",
        "Ad esempio, esegui la cella seguente per confrontare l'acquirente di un'immagine con gli acquirenti di un'altra, e trova un volto corrispondente."
      ],
      "metadata": {}
    },
    {
      "cell_type": "code",
      "source": [
        "# Ottieni l'ID del primo volto nell'immagine 1\r\n",
        "image_1_path = os.path.join('data', 'face', 'store_cam3.jpg')\n",
        "image_1_stream = open(image_1_path, \"rb\")\n",
        "image_1_faces = face_client.face.detect_with_stream(image=image_1_stream)\n",
        "face_1 = image_1_faces[0]\n",
        "\n",
        "# Ottieni l'ID del volto in una seconda immagine\r\n",
        "image_2_path = os.path.join('data', 'face', 'store_cam2.jpg')\n",
        "image_2_stream = open(image_2_path, \"rb\")\n",
        "image_2_faces = face_client.face.detect_with_stream(image=image_2_stream)\n",
        "image_2_face_ids = list(map(lambda face: face.face_id, image_2_faces))\n",
        "\n",
        "# Trova i volti nell'immagine 2 che sono simili a quelli dell'immagine 1\r\n",
        "similar_faces = face_client.face.find_similar(face_id=face_1.face_id, face_ids=image_2_face_ids)\n",
        "\n",
        "# Mostra il volto nell'immagine 1 e volti simili nell'immagine 2 (codice in python_code/face.py)\r\n",
        "faces.show_similar_faces(image_1_path, face_1, image_2_path, image_2_faces, similar_faces)"
      ],
      "outputs": [],
      "execution_count": null,
      "metadata": {
        "gather": {
          "logged": 1599693972555
        }
      }
    },
    {
      "cell_type": "markdown",
      "source": [
        "## Riconosci i volti\r\n",
        "\r\n",
        "Finora hai visto come Viso sia in grado di rilevare i visi e le caratteristiche facciali e di identificare due volti che sono simili tra loro. Puoi compiere un ulteriore passo avanti integrando una soluzione di *riconoscimento facciale* in cui esegui il training di Viso per riconoscere il viso di una specifica persona. Questa operazione può essere utile in una varietà di scenari, ad esempio per aggiungere automaticamente tag alle fotografie degli amici in un'applicazione di social media, o per utilizzare il riconoscimento facciale come parte di un sistema di verifica dell'identità biometrica.\r\n",
        "\r\n",
        "Per vedere come funziona, supponiamo che l'azienda Northwind Traders voglia usare il riconoscimento facciale per assicurarsi che solo i dipendenti autorizzati del reparto IT possano accedere a sistemi sicuri.\r\n",
        "\r\n",
        "Inizieremo creando un *gruppo di persone* che rappresenta i dipendenti autorizzati."
      ],
      "metadata": {}
    },
    {
      "cell_type": "code",
      "source": [
        "group_id = 'employee_group_id'\n",
        "try:\n",
        "    # Delete group if it already exists\n",
        "    face_client.person_group.delete(group_id)\n",
        "except Exception as ex:\n",
        "    print(ex.message)\n",
        "finally:\n",
        "    face_client.person_group.create(group_id, 'employees')\n",
        "    print ('Group created!')"
      ],
      "outputs": [],
      "execution_count": null,
      "metadata": {
        "gather": {
          "logged": 1599693973492
        }
      }
    },
    {
      "cell_type": "markdown",
      "source": [
        "Ora che il *gruppo di persone* esiste, possiamo aggiungere una *persona* per ogni dipendente che vogliamo includere nel gruppo e registrare quindi più fotografie di ogni persona in modo che Viso possa apprendere le distinte caratteristiche facciali di ogni persona. Idealmente, le immagini dovrebbero mostrare la stessa persona in pose diverse e con diverse espressioni facciali.\r\n",
        "\r\n",
        "Aggiungeremo un singolo dipendente chiamato Giovanni e registreremo tre fotografie del dipendente."
      ],
      "metadata": {}
    },
    {
      "cell_type": "code",
      "source": [
        "import matplotlib.pyplot as plt\n",
        "from PIL import Image\n",
        "import os\n",
        "%matplotlib inline\n",
        "\n",
        "# Aggiungi una persona (Giovanni) al gruppo\r\n",
        "wendell = face_client.person_group_person.create(group_id, 'Wendell')\n",
        "\n",
        "# Ottieni foto di Giovanni\r\n",
        "folder = os.path.join('data', 'face', 'wendell')\n",
        "wendell_pics = os.listdir(folder)\n",
        "\n",
        "# Registra le foto\r\n",
        "i = 0\n",
        "fig = plt.figure(figsize=(8, 8))\n",
        "for pic in wendell_pics:\n",
        "    # Add each photo to person in person group\n",
        "    img_path = os.path.join(folder, pic)\n",
        "    img_stream = open(img_path, \"rb\")\n",
        "    face_client.person_group_person.add_face_from_stream(group_id, wendell.person_id, img_stream)\n",
        "\n",
        "    # Display each image\n",
        "    img = Image.open(img_path)\n",
        "    i +=1\n",
        "    a=fig.add_subplot(1,len(wendell_pics), i)\n",
        "    a.axis('off')\n",
        "    imgplot = plt.imshow(img)\n",
        "plt.show()"
      ],
      "outputs": [],
      "execution_count": null,
      "metadata": {
        "gather": {
          "logged": 1599693976898
        }
      }
    },
    {
      "cell_type": "markdown",
      "source": [
        "Con la persona aggiunta e le fotografie registrate, possiamo ora eseguire il training di Viso affinché riconosca ogni persona."
      ],
      "metadata": {}
    },
    {
      "cell_type": "code",
      "source": [
        "face_client.person_group.train(group_id)\n",
        "print('Trained!')"
      ],
      "outputs": [],
      "execution_count": null,
      "metadata": {
        "gather": {
          "logged": 1599693977046
        }
      }
    },
    {
      "cell_type": "markdown",
      "source": [
        "Ora, con il modello sottoposto a training, puoi usarlo per identificare i volti riconosciuti in un'immagine."
      ],
      "metadata": {}
    },
    {
      "cell_type": "code",
      "source": [
        "# Ottieni l'ID del volto in una seconda immagine\r\n",
        "image_path = os.path.join('data', 'face', 'employees.jpg')\n",
        "image_stream = open(image_path, \"rb\")\n",
        "image_faces = face_client.face.detect_with_stream(image=image_stream)\n",
        "image_face_ids = list(map(lambda face: face.face_id, image_faces))\n",
        "\n",
        "# Ottieni i nomi dei volti riconosciuti\r\n",
        "face_names = {}\n",
        "recognized_faces = face_client.face.identify(image_face_ids, group_id)\n",
        "for face in recognized_faces:\n",
        "    person_name = face_client.person_group_person.get(group_id, face.candidates[0].person_id).name\n",
        "    face_names[face.face_id] = person_name\n",
        "\n",
        "# mostra i volti riconosciuti\r\n",
        "faces.show_recognized_faces(image_path, image_faces, face_names)\n",
        "\n"
      ],
      "outputs": [],
      "execution_count": null,
      "metadata": {
        "gather": {
          "logged": 1599693994820
        }
      }
    },
    {
      "cell_type": "markdown",
      "source": [
        "## Scopri di più\r\n",
        "\r\n",
        "Per saperne di più sul servizio cognitivo Viso, consulta la [documentazione di Viso](https://docs.microsoft.com/azure/cognitive-services/face/)\r\n"
      ],
      "metadata": {}
    }
  ],
  "metadata": {
    "language_info": {
      "name": "python",
      "version": "3.6.9",
      "mimetype": "text/x-python",
      "codemirror_mode": {
        "name": "ipython",
        "version": 3
      },
      "pygments_lexer": "ipython3",
      "nbconvert_exporter": "python",
      "file_extension": ".py"
    },
    "kernelspec": {
      "name": "python3-azureml",
      "language": "python",
      "display_name": "Python 3.6 - AzureML"
    },
    "kernel_info": {
      "name": "python3-azureml"
    },
    "nteract": {
      "version": "nteract-front-end@1.0.0"
    }
  },
  "nbformat": 4,
  "nbformat_minor": 2
}